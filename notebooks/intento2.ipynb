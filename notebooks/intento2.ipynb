{
 "cells": [
  {
   "cell_type": "code",
   "execution_count": 1,
   "id": "3091c41e",
   "metadata": {},
   "outputs": [],
   "source": [
    "import nfl_data_py as nfl\n",
    "import pandas as pd\n",
    "\n",
    "# Definimos el rango de temporadas que queremos analizar\n",
    "seasons = list(range(2020, 2025))\n",
    "\n",
    "# Descargamos datos de snaps (jugadas en campo) por jugador en cada partido\n",
    "snap_data = nfl.import_snap_counts(seasons)\n",
    "\n",
    "# Descargamos datos del roster oficial por temporada con nombres y posiciones\n",
    "roster_data = nfl.import_seasonal_rosters(seasons)"
   ]
  },
  {
   "cell_type": "code",
   "execution_count": 2,
   "id": "9c2606cd",
   "metadata": {},
   "outputs": [
    {
     "name": "stdout",
     "output_type": "stream",
     "text": [
      "Columnas en snap_data: ['game_id', 'pfr_game_id', 'season', 'game_type', 'week', 'player', 'pfr_player_id', 'position', 'team', 'opponent', 'offense_snaps', 'offense_pct', 'defense_snaps', 'defense_pct', 'st_snaps', 'st_pct']\n",
      "Columnas en roster_data: ['season', 'team', 'position', 'depth_chart_position', 'jersey_number', 'status', 'player_name', 'first_name', 'last_name', 'birth_date', 'height', 'weight', 'college', 'player_id', 'espn_id', 'sportradar_id', 'yahoo_id', 'rotowire_id', 'pff_id', 'pfr_id', 'fantasy_data_id', 'sleeper_id', 'years_exp', 'headshot_url', 'ngs_position', 'week', 'game_type', 'status_description_abbr', 'football_name', 'esb_id', 'gsis_it_id', 'smart_id', 'entry_year', 'rookie_year', 'draft_club', 'draft_number', 'age']\n"
     ]
    }
   ],
   "source": [
    "# Revisamos las columnas para entender qué vamos a usar para hacer el merge\n",
    "print(\"Columnas en snap_data:\", snap_data.columns.tolist())\n",
    "print(\"Columnas en roster_data:\", roster_data.columns.tolist())"
   ]
  },
  {
   "cell_type": "code",
   "execution_count": 3,
   "id": "03b7ea77",
   "metadata": {},
   "outputs": [
    {
     "name": "stdout",
     "output_type": "stream",
     "text": [
      "Ejemplos snap_data['player'](nombres jugadores):\n",
      "0         Andrew Wylie\n",
      "1    Mitchell Schwartz\n",
      "2        Austin Reiter\n",
      "3      Kelechi Osemele\n",
      "4          Eric Fisher\n",
      "Name: player, dtype: object\n",
      "Ejemplos roster_data['player_name'](nombres jugadores):\n",
      "0    Adam Vinatieri\n",
      "1         Tom Brady\n",
      "2        Drew Brees\n",
      "3       Josh McCown\n",
      "4      Jason Witten\n",
      "Name: player_name, dtype: object\n"
     ]
    }
   ],
   "source": [
    "# Observamos los datos de ejemplo para confirmar las columnas clave: \n",
    "print(\"Ejemplos snap_data['player'](nombres jugadores):\")\n",
    "print(snap_data['player'].head())\n",
    "\n",
    "print(\"Ejemplos roster_data['player_name'](nombres jugadores):\")\n",
    "print(roster_data['player_name'].head())"
   ]
  },
  {
   "cell_type": "code",
   "execution_count": 4,
   "id": "d572bd6a",
   "metadata": {},
   "outputs": [],
   "source": [
    "# Para unir los datos, usaremos los nombres de los jugadores:\n",
    "alineacion = snap_data.merge(\n",
    "    roster_data[['player_name', 'position', 'team', 'season']],\n",
    "    left_on=['player', 'season', 'team'],\n",
    "    right_on=['player_name', 'season', 'team'],\n",
    "    how='left'\n",
    ")"
   ]
  },
  {
   "cell_type": "code",
   "execution_count": 6,
   "id": "ac965a70",
   "metadata": {},
   "outputs": [
    {
     "name": "stdout",
     "output_type": "stream",
     "text": [
      "Columnas después del merge: ['game_id', 'pfr_game_id', 'season', 'game_type', 'week', 'player', 'pfr_player_id', 'position_x', 'team', 'opponent', 'offense_snaps', 'offense_pct', 'defense_snaps', 'defense_pct', 'st_snaps', 'st_pct', 'player_name', 'position_y']\n"
     ]
    }
   ],
   "source": [
    "# El merge podría agregar sufijos si hay columnas con nombre igual\n",
    "# Mostramos las columnas resultantes para identificar estos sufijos\n",
    "print(\"Columnas después del merge:\", alineacion.columns.tolist())"
   ]
  },
  {
   "cell_type": "code",
   "execution_count": 10,
   "id": "2199d7aa",
   "metadata": {},
   "outputs": [],
   "source": [
    "# Seleccionamos las columnas importantes, adaptamos sufijos según aparezcan\n",
    "alineacion = alineacion[[\n",
    "    'game_id',\n",
    "    'team',\n",
    "    'player',\n",
    "    'player_name',\n",
    "    'position_y',\n",
    "    'week',\n",
    "    'season',\n",
    "    'offense_snaps',\n",
    "    'defense_snaps',\n",
    "    'st_snaps'\n",
    "]]\n",
    "\n",
    "alineacion = alineacion.rename(columns={\n",
    "    'player' : 'player_name_snap_data'\n",
    "})"
   ]
  },
  {
   "cell_type": "code",
   "execution_count": 11,
   "id": "1d3b8ccb",
   "metadata": {},
   "outputs": [
    {
     "name": "stdout",
     "output_type": "stream",
     "text": [
      "          game_id team player_name_snap_data        player_name position_y  \\\n",
      "0  2020_01_HOU_KC   KC          Andrew Wylie       Andrew Wylie         OL   \n",
      "1  2020_01_HOU_KC   KC     Mitchell Schwartz  Mitchell Schwartz         OL   \n",
      "2  2020_01_HOU_KC   KC         Austin Reiter      Austin Reiter         OL   \n",
      "3  2020_01_HOU_KC   KC       Kelechi Osemele    Kelechi Osemele         OL   \n",
      "4  2020_01_HOU_KC   KC           Eric Fisher        Eric Fisher         OL   \n",
      "\n",
      "   week  season  offense_snaps  defense_snaps  st_snaps  starter  \n",
      "0     1    2020           69.0            0.0       6.0     True  \n",
      "1     1    2020           69.0            0.0       6.0     True  \n",
      "2     1    2020           69.0            0.0       6.0     True  \n",
      "3     1    2020           69.0            0.0       6.0     True  \n",
      "4     1    2020           69.0            0.0       6.0     True  \n"
     ]
    }
   ],
   "source": [
    "alineacion['starter'] = alineacion['offense_snaps'] > 0\n",
    "\n",
    "print(alineacion.head())"
   ]
  },
  {
   "cell_type": "code",
   "execution_count": 12,
   "id": "5d933298",
   "metadata": {},
   "outputs": [
    {
     "name": "stdout",
     "output_type": "stream",
     "text": [
      "Archivo 'nfl_alineacion_2020_2024.csv' guardado con éxito!\n"
     ]
    }
   ],
   "source": [
    "# Guardamos nuestro resultado en un CSV para analisis posterior\n",
    "alineacion.to_csv('nfl_alineacion_2020_2024.csv', index=False)\n",
    "print(\"Archivo 'nfl_alineacion_2020_2024.csv' guardado con éxito!\")"
   ]
  }
 ],
 "metadata": {
  "kernelspec": {
   "display_name": "Python 3",
   "language": "python",
   "name": "python3"
  },
  "language_info": {
   "codemirror_mode": {
    "name": "ipython",
    "version": 3
   },
   "file_extension": ".py",
   "mimetype": "text/x-python",
   "name": "python",
   "nbconvert_exporter": "python",
   "pygments_lexer": "ipython3",
   "version": "3.11.3"
  }
 },
 "nbformat": 4,
 "nbformat_minor": 5
}
